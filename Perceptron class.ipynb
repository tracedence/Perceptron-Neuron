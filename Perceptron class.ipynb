{
 "cells": [
  {
   "cell_type": "code",
   "execution_count": 357,
   "metadata": {},
   "outputs": [],
   "source": [
    "import numpy as np\n",
    "import pandas as pd\n",
    "import matplotlib.pyplot as plt\n",
    "from sklearn.metrics import accuracy_score"
   ]
  },
  {
   "cell_type": "code",
   "execution_count": 358,
   "metadata": {},
   "outputs": [],
   "source": [
    "class Perceptron:\n",
    "    \n",
    "    def __init__(self):\n",
    "        self.b = None\n",
    "        self.w = None\n",
    "        \n",
    "    def model(self, x):\n",
    "        \n",
    "        return int(np.dot(x, self.w) >= self.b)\n",
    "        \n",
    "    def predict(self, X):\n",
    "        \n",
    "        y_pred = []\n",
    "        for x in X:\n",
    "            y_pred.append(self.model(x))\n",
    "            \n",
    "        return y_pred\n",
    "    \n",
    "    def fit(self, X, Y, epoch = 2, alpha = 0.1):\n",
    "        \n",
    "        self.w = np.random.random(X.shape[1])\n",
    "        self.b = np.random.random(1)\n",
    "        accuracy = 0\n",
    "        best_W = None\n",
    "        best_b = None\n",
    "\n",
    "        for i in range(epoch):\n",
    "            \n",
    "            y_pred = []\n",
    "            \n",
    "            for x, y in zip(X, Y):\n",
    "\n",
    "                result = self.model(x)\n",
    "                y_pred.append(result)\n",
    "                \n",
    "                self.update(result, x, y, alpha)\n",
    "\n",
    "#             print(accuracy_score(y_pred, Y))\n",
    "            acc = accuracy_score(y_pred, Y)\n",
    "            if acc > accuracy:\n",
    "                accuracy = acc\n",
    "                best_W = self.w\n",
    "                best_b = self.b\n",
    "                \n",
    "        print(accuracy)\n",
    "        self.w = best_W\n",
    "        \n",
    "    def update(self, result, x, y, alpha):\n",
    "        \n",
    "        if result == 0 and  y == 1:\n",
    "            self.w += alpha * x\n",
    "            self.b -= alpha * 1\n",
    "\n",
    "        if result == 1 and y == 0:\n",
    "            self.w -= alpha * x\n",
    "            self.b += alpha * 1\n",
    "        "
   ]
  },
  {
   "cell_type": "code",
   "execution_count": 359,
   "metadata": {},
   "outputs": [],
   "source": [
    "from sklearn.datasets import load_breast_cancer\n",
    "from sklearn.model_selection import train_test_split\n",
    "from sklearn.preprocessing import MinMaxScaler"
   ]
  },
  {
   "cell_type": "code",
   "execution_count": 360,
   "metadata": {},
   "outputs": [],
   "source": [
    "breast_cancer = load_breast_cancer()"
   ]
  },
  {
   "cell_type": "code",
   "execution_count": 361,
   "metadata": {},
   "outputs": [],
   "source": [
    "data = breast_cancer.data\n",
    "Y = breast_cancer.target\n",
    "min_max = MinMaxScaler()\n",
    "data = min_max.fit_transform(data)"
   ]
  },
  {
   "cell_type": "code",
   "execution_count": 362,
   "metadata": {},
   "outputs": [],
   "source": [
    "X_train, X_test, y_train, y_test = train_test_split(data, Y, random_state = 1, test_size = 0.3 , stratify = Y)"
   ]
  },
  {
   "cell_type": "code",
   "execution_count": 363,
   "metadata": {},
   "outputs": [],
   "source": [
    "neuron = Perceptron()"
   ]
  },
  {
   "cell_type": "code",
   "execution_count": 401,
   "metadata": {},
   "outputs": [
    {
     "name": "stdout",
     "output_type": "stream",
     "text": [
      "0.9798994974874372\n"
     ]
    }
   ],
   "source": [
    "neuron.fit(X_train, y_train, epoch=1000, alpha = 0.001)"
   ]
  },
  {
   "cell_type": "code",
   "execution_count": 402,
   "metadata": {},
   "outputs": [
    {
     "data": {
      "image/png": "[encoded data removed]",
      "text/plain": [
       "<Figure size 432x288 with 1 Axes>"
      ]
     },
     "metadata": {
      "needs_background": "light"
     },
     "output_type": "display_data"
    }
   ],
   "source": [
    "plt.plot(neuron.w, )\n",
    "plt.title('Weights value')\n",
    "plt.xlabel('Feature number')\n",
    "plt.ylabel('Value of Weight of particular feature')\n",
    "plt.show()"
   ]
  },
  {
   "cell_type": "code",
   "execution_count": 403,
   "metadata": {},
   "outputs": [],
   "source": [
    "y_pred = neuron.predict(X_test)"
   ]
  },
  {
   "cell_type": "code",
   "execution_count": 404,
   "metadata": {},
   "outputs": [
    {
     "data": {
      "text/plain": [
       "0.9649122807017544"
      ]
     },
     "execution_count": 404,
     "metadata": {},
     "output_type": "execute_result"
    }
   ],
   "source": [
    "accuracy_score(y_pred, y_test)"
   ]
  },
  {
   "cell_type": "code",
   "execution_count": null,
   "metadata": {},
   "outputs": [],
   "source": []
  }
 ],
 "metadata": {
  "kernelspec": {
   "display_name": "Python 3",
   "language": "python",
   "name": "python3"
  },
  "language_info": {
   "codemirror_mode": {
    "name": "ipython",
    "version": 3
   },
   "file_extension": ".py",
   "mimetype": "text/x-python",
   "name": "python",
   "nbconvert_exporter": "python",
   "pygments_lexer": "ipython3",
   "version": "3.7.1"
  }
 },
 "nbformat": 4,
 "nbformat_minor": 2
}
